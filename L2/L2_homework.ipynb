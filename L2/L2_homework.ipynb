{
  "cells": [
    {
      "cell_type": "markdown",
      "metadata": {
        "id": "safF1-V_5da-"
      },
      "source": [
        "### Homework Nr. 2\n",
        "#### Tasks:\n",
        "1. Complete week 1 and 2 of second course from specialization;\n",
        "2. Complete the practical Task\n",
        "3. Watch the following videos, and try to integrate W&B in your code:\n",
        "    https://www.youtube.com/watch?v=tHAFujRhZLA&t=207s\n",
        "    \n",
        "#### Practical Task:\n",
        "Implement Neural Network using PyTorch to solve a task from selected Dataset.\n",
        "Dataset can be one of the\n",
        "1. https://www.kaggle.com/datasets/johnsmith88/heart-disease-dataset\n",
        "2. https://www.kaggle.com/datasets/uciml/breast-cancer-wisconsin-data\n",
        "3. Or other dataset that you can find interesting to solve with an NN\n",
        "\n",
        "Steps:\n",
        "1. Implement all needed libraries\n",
        "2. Load and display few images from the dataset\n",
        "3. Train-test split\n",
        "4. Create DataLoaders for each set\n",
        "5. Create Neural Network Class (multilayer)\n",
        "6. Create Training and Testing loop\n",
        "7. Train your model\n",
        "8. Test your model\n",
        "9. Output your results (accuracy and prediction examples)\n",
        "10. IMPORTANT! Repeat this process with different: Activation functions, gradient descent techniques (SGD, Mini-batch GD), different hyperparameters (epocs, learning rate, ......)\n",
        "11. Track your experiments, and show what was the combination that performed best, can you find the explanation for that?\n",
        "11. Draw conclusions and see what are the differences\n",
        "\n",
        "Good luck!"
      ]
    },
    {
      "cell_type": "markdown",
      "metadata": {
        "id": "hudjbhAl5dbB"
      },
      "source": []
    }
  ],
  "metadata": {
    "language_info": {
      "name": "python"
    },
    "colab": {
      "provenance": []
    }
  },
  "nbformat": 4,
  "nbformat_minor": 0
}