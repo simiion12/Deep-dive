{
 "cells": [
  {
   "cell_type": "markdown",
   "metadata": {},
   "source": [
    "### Homework Nr. 4\n",
    "#### Tasks:\n",
    "1. Complete week 2 of third course and week 1 of fourth course from specialization;\n",
    "2. Complete the practical task.\n",
    "\n",
    "#### Practical Task:\n",
    "This week we will do something very different, instead of using a model-centric approach (meaning we have the\n",
    "data fixed and we change the model and its hyperparameters) we will do a data-centric approach (meaning we have\n",
    "the model fixed and we change the data and its preprocessing steps).\n",
    "We have a similar to MNIST digits dataset, but with Roman numerals.\n",
    "\n",
    "Your task is to:\n",
    "1. Analyze the dataset\n",
    "2. Clean the dataset, fix incorrect labels\n",
    "3. Add your own data (your images, image augmentation, etc.).\n",
    "    If you choose to create your own data, you may find this script helpful for converting your images: convert.py\n",
    "4. Decide your train/val splits\n",
    "5. Don't touch the test set, it's a fixed set for evaluation\n",
    "6. Train and test the model (run train.py)\n",
    "7. Iterate over this steps, and try to improve the results\n",
    "8. Draw conclusions and see what are the differences\n",
    "\n",
    "Good luck!"
   ]
  },
  {
   "cell_type": "markdown",
   "metadata": {},
   "source": []
  }
 ],
 "metadata": {
  "language_info": {
   "name": "python"
  }
 },
 "nbformat": 4,
 "nbformat_minor": 2
}
